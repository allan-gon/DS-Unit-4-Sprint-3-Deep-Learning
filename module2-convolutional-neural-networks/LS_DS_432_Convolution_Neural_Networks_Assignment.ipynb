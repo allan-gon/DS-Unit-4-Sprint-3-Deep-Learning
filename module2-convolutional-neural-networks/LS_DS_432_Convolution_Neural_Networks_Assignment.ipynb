{
 "cells": [
  {
   "cell_type": "markdown",
   "metadata": {
    "colab_type": "text",
    "id": "fc4yMj7mtCAZ"
   },
   "source": [
    "<img align=\"left\" src=\"https://lever-client-logos.s3.amazonaws.com/864372b1-534c-480e-acd5-9711f850815c-1524247202159.png\" width=200>\n",
    "<br></br>\n",
    "<br></br>\n",
    "\n",
    "## *Data Science Unit 4 Sprint 3 Assignment 2*\n",
    "# Convolutional Neural Networks (CNNs)"
   ]
  },
  {
   "cell_type": "markdown",
   "metadata": {
    "colab_type": "text",
    "id": "0lfZdD_cp1t5"
   },
   "source": [
    "# Assignment\n",
    "\n",
    "- <a href=\"#p1\">Part 1:</a> Pre-Trained Model\n",
    "- <a href=\"#p2\">Part 2:</a> Custom CNN Model\n",
    "- <a href=\"#p3\">Part 3:</a> CNN with Data Augmentation\n",
    "\n",
    "\n",
    "You will apply three different CNN models to a binary image classification model using Keras. Classify images of Mountains (`./data/train/mountain/*`) and images of forests (`./data/train/forest/*`). Treat mountains as the positive class (1) and the forest images as the negative (zero). \n",
    "\n",
    "|Mountain (+)|Forest (-)|\n",
    "|---|---|\n",
    "|![](https://github.com/LambdaSchool/DS-Unit-4-Sprint-3-Deep-Learning/blob/main/module2-convolutional-neural-networks/data/train/mountain/art1131.jpg?raw=1)|![](https://github.com/LambdaSchool/DS-Unit-4-Sprint-3-Deep-Learning/blob/main/module2-convolutional-neural-networks/data/validation/forest/cdmc317.jpg?raw=1)|\n",
    "\n",
    "The problem is relatively difficult given that the sample is tiny: there are about 350 observations per class. This sample size might be something that you can expect with prototyping an image classification problem/solution at work. Get accustomed to evaluating several different possible models."
   ]
  },
  {
   "cell_type": "markdown",
   "metadata": {
    "colab_type": "text",
    "id": "1eawBP-otCAb"
   },
   "source": [
    "# Pre - Trained Model\n",
    "<a id=\"p1\"></a>\n",
    "\n",
    "Load a pretrained network from Keras, [ResNet50](https://tfhub.dev/google/imagenet/resnet_v1_50/classification/1) - a 50 layer deep network trained to recognize [1000 objects](https://storage.googleapis.com/download.tensorflow.org/data/ImageNetLabels.txt). Starting usage:\n",
    "\n",
    "```python\n",
    "import numpy as np\n",
    "\n",
    "from tensorflow.keras.applications.resnet50 import ResNet50\n",
    "from tensorflow.keras.preprocessing import image\n",
    "from tensorflow.keras.applications.resnet50 import preprocess_input, decode_predictions\n",
    "\n",
    "from tensorflow.keras.layers import Dense, GlobalAveragePooling2D\n",
    "from tensorflow.keras.models import Model # This is the functional API\n",
    "\n",
    "resnet = ResNet50(weights='imagenet', include_top=False)\n",
    "\n",
    "```\n",
    "\n",
    "The `include_top` parameter in `ResNet50` will remove the full connected layers from the ResNet model. The next step is to turn off the training of the ResNet layers. We want to use the learned parameters without updating them in future training passes. \n",
    "\n",
    "```python\n",
    "for layer in resnet.layers:\n",
    "    layer.trainable = False\n",
    "```\n",
    "\n",
    "Using the Keras functional API, we will need to additional additional full connected layers to our model. We we removed the top layers, we removed all preivous fully connected layers. In other words, we kept only the feature processing portions of our network. You can expert with additional layers beyond what's listed here. The `GlobalAveragePooling2D` layer functions as a really fancy flatten function by taking the average of each of the last convolutional layer outputs (which is two dimensional still). \n",
    "\n",
    "```python\n",
    "x = resnet.output\n",
    "x = GlobalAveragePooling2D()(x) # This layer is a really fancy flatten\n",
    "x = Dense(1024, activation='relu')(x)\n",
    "predictions = Dense(1, activation='sigmoid')(x)\n",
    "model = Model(resnet.input, predictions)\n",
    "```\n",
    "\n",
    "Your assignment is to apply the transfer learning above to classify images of Mountains (`./data/train/mountain/*`) and images of forests (`./data/train/forest/*`). Treat mountains as the positive class (1) and the forest images as the negative (zero). \n",
    "\n",
    "Steps to complete assignment: \n",
    "1. Load in Image Data into numpy arrays (`X`) \n",
    "2. Create a `y` for the labels\n",
    "3. Train your model with pre-trained layers from resnet\n",
    "4. Report your model's accuracy"
   ]
  },
  {
   "cell_type": "markdown",
   "metadata": {
    "colab_type": "text",
    "id": "CLdGdXCatCAb"
   },
   "source": [
    "## Load in Data\n",
    "\n",
    "This surprisingly more difficult than it seems, because you are working with directories of images instead of a single file. This boiler plate will help you download a zipped version of the directory of images. The directory is organized into \"train\" and \"validation\" which you can use inside an `ImageGenerator` class to stream batches of images thru your model.  \n"
   ]
  },
  {
   "cell_type": "markdown",
   "metadata": {
    "colab_type": "text",
    "id": "moRVuHUqtCAc"
   },
   "source": [
    "### Download & Summarize the Data\n",
    "\n",
    "This step is completed for you. Just run the cells and review the results. "
   ]
  },
  {
   "cell_type": "code",
   "execution_count": 1,
   "metadata": {
    "colab": {
     "base_uri": "https://localhost:8080/",
     "height": 72
    },
    "colab_type": "code",
    "id": "AR66H8o9tCAc",
    "outputId": "b7c293db-28c1-4b0b-f5ae-25be00f11ec5"
   },
   "outputs": [
    {
     "name": "stdout",
     "output_type": "stream",
     "text": [
      "Downloading data from https://github.com/LambdaSchool/DS-Unit-4-Sprint-3-Deep-Learning/blob/main/module2-convolutional-neural-networks/data.zip?raw=true\n",
      "42172416/42170838 [==============================] - 2s 0us/step\n"
     ]
    }
   ],
   "source": [
    "import tensorflow as tf\n",
    "import os\n",
    "\n",
    "_URL = 'https://github.com/LambdaSchool/DS-Unit-4-Sprint-3-Deep-Learning/blob/main/module2-convolutional-neural-networks/data.zip?raw=true'\n",
    "\n",
    "path_to_zip = tf.keras.utils.get_file('./data.zip', origin=_URL, extract=True)\n",
    "PATH = os.path.join(os.path.dirname(path_to_zip), 'data')"
   ]
  },
  {
   "cell_type": "code",
   "execution_count": 2,
   "metadata": {
    "colab": {},
    "colab_type": "code",
    "id": "MNFsIu_KtCAg"
   },
   "outputs": [],
   "source": [
    "train_dir = os.path.join(PATH, 'train')\n",
    "validation_dir = os.path.join(PATH, 'validation')"
   ]
  },
  {
   "cell_type": "code",
   "execution_count": 3,
   "metadata": {
    "colab": {},
    "colab_type": "code",
    "id": "OsI9BQLotCAj"
   },
   "outputs": [],
   "source": [
    "train_mountain_dir = os.path.join(train_dir, 'mountain')  # directory with our training cat pictures\n",
    "train_forest_dir = os.path.join(train_dir, 'forest')  # directory with our training dog pictures\n",
    "validation_mountain_dir = os.path.join(validation_dir, 'mountain')  # directory with our validation cat pictures\n",
    "validation_forest_dir = os.path.join(validation_dir, 'forest')  # directory with our validation dog pictures"
   ]
  },
  {
   "cell_type": "code",
   "execution_count": 4,
   "metadata": {
    "colab": {},
    "colab_type": "code",
    "id": "NUs1e5-XtCAl"
   },
   "outputs": [],
   "source": [
    "num_mountain_tr = len(os.listdir(train_mountain_dir))\n",
    "num_forest_tr = len(os.listdir(train_forest_dir))\n",
    "\n",
    "num_mountain_val = len(os.listdir(validation_mountain_dir))\n",
    "num_forest_val = len(os.listdir(validation_forest_dir))\n",
    "\n",
    "total_train = num_mountain_tr + num_forest_tr\n",
    "total_val = num_mountain_val + num_forest_val"
   ]
  },
  {
   "cell_type": "code",
   "execution_count": 5,
   "metadata": {
    "colab": {
     "base_uri": "https://localhost:8080/",
     "height": 138
    },
    "colab_type": "code",
    "id": "ZmklbgSMtCAn",
    "outputId": "be5b9d52-d9f5-4b1e-878e-eb5f87d0c6bd"
   },
   "outputs": [
    {
     "name": "stdout",
     "output_type": "stream",
     "text": [
      "total training mountain images: 254\n",
      "total training forest images: 270\n",
      "total validation mountain images: 125\n",
      "total validation forest images: 62\n",
      "--\n",
      "Total training images: 524\n",
      "Total validation images: 187\n"
     ]
    }
   ],
   "source": [
    "print('total training mountain images:', num_mountain_tr)\n",
    "print('total training forest images:', num_forest_tr)\n",
    "\n",
    "print('total validation mountain images:', num_mountain_val)\n",
    "print('total validation forest images:', num_forest_val)\n",
    "print(\"--\")\n",
    "print(\"Total training images:\", total_train)\n",
    "print(\"Total validation images:\", total_val)"
   ]
  },
  {
   "cell_type": "markdown",
   "metadata": {
    "colab_type": "text",
    "id": "dQ4ag4ultCAq"
   },
   "source": [
    "### Keras `ImageGenerator` to Process the Data\n",
    "\n",
    "This step is completed for you, but please review the code. The `ImageGenerator` class reads in batches of data from a directory and pass them to the model one batch at a time. Just like large text files, this method is advantageous, because it stifles the need to load a bunch of images into memory. \n",
    "\n",
    "Check out the documentation for this class method: [Keras `ImageGenerator` Class](https://keras.io/preprocessing/image/#imagedatagenerator-class). You'll expand it's use in the third assignment objective."
   ]
  },
  {
   "cell_type": "code",
   "execution_count": 6,
   "metadata": {
    "colab": {},
    "colab_type": "code",
    "id": "67i9IW49tCAq"
   },
   "outputs": [],
   "source": [
    "batch_size = 16\n",
    "epochs = 50\n",
    "IMG_HEIGHT = 224\n",
    "IMG_WIDTH = 224"
   ]
  },
  {
   "cell_type": "code",
   "execution_count": 7,
   "metadata": {
    "colab": {},
    "colab_type": "code",
    "id": "B1wNKMo1tCAt"
   },
   "outputs": [],
   "source": [
    "from tensorflow.keras.preprocessing.image import ImageDataGenerator\n",
    "\n",
    "train_image_generator = ImageDataGenerator(rescale=1./255) # Generator for our training data\n",
    "validation_image_generator = ImageDataGenerator(rescale=1./255) # Generator for our validation data"
   ]
  },
  {
   "cell_type": "code",
   "execution_count": 8,
   "metadata": {
    "colab": {
     "base_uri": "https://localhost:8080/",
     "height": 35
    },
    "colab_type": "code",
    "id": "ndsuM4L9tCAv",
    "outputId": "68bd83da-a370-4f6a-a257-d8c6782e1e1e"
   },
   "outputs": [
    {
     "name": "stdout",
     "output_type": "stream",
     "text": [
      "Found 533 images belonging to 2 classes.\n"
     ]
    }
   ],
   "source": [
    "train_data_gen = train_image_generator.flow_from_directory(batch_size=batch_size,\n",
    "                                                           directory=train_dir,\n",
    "                                                           shuffle=True,\n",
    "                                                           target_size=(IMG_HEIGHT, IMG_WIDTH),\n",
    "                                                           class_mode='binary')"
   ]
  },
  {
   "cell_type": "code",
   "execution_count": 9,
   "metadata": {
    "colab": {},
    "colab_type": "code",
    "id": "9kxlk3optCAy"
   },
   "outputs": [
    {
     "name": "stdout",
     "output_type": "stream",
     "text": [
      "Found 195 images belonging to 2 classes.\n"
     ]
    }
   ],
   "source": [
    "val_data_gen = validation_image_generator.flow_from_directory(batch_size=batch_size,\n",
    "                                                              directory=validation_dir,\n",
    "                                                              target_size=(IMG_HEIGHT, IMG_WIDTH),\n",
    "                                                              class_mode='binary')"
   ]
  },
  {
   "cell_type": "markdown",
   "metadata": {},
   "source": [
    "# Dunno what the fuck this is for"
   ]
  },
  {
   "cell_type": "markdown",
   "metadata": {
    "colab_type": "text",
    "id": "2l7ue6NutCA0"
   },
   "source": [
    "## Instatiate Model"
   ]
  },
  {
   "cell_type": "code",
   "execution_count": 10,
   "metadata": {},
   "outputs": [
    {
     "name": "stdout",
     "output_type": "stream",
     "text": [
      "Downloading data from https://storage.googleapis.com/tensorflow/keras-applications/resnet/resnet50_weights_tf_dim_ordering_tf_kernels_notop.h5\n",
      "94773248/94765736 [==============================] - 2s 0us/step\n"
     ]
    }
   ],
   "source": [
    "import numpy as np\n",
    "\n",
    "from tensorflow.keras.applications.resnet50 import ResNet50\n",
    "from tensorflow.keras.preprocessing import image\n",
    "from tensorflow.keras.applications.resnet50 import preprocess_input, decode_predictions\n",
    "\n",
    "from tensorflow.keras.layers import Dense, GlobalAveragePooling2D\n",
    "from tensorflow.keras.models import Model # This is the functional API\n",
    "\n",
    "resnet = ResNet50(weights='imagenet', include_top=False)"
   ]
  },
  {
   "cell_type": "code",
   "execution_count": 11,
   "metadata": {},
   "outputs": [],
   "source": [
    "for layer in resnet.layers:\n",
    "    layer.trainable = False"
   ]
  },
  {
   "cell_type": "code",
   "execution_count": 12,
   "metadata": {},
   "outputs": [],
   "source": [
    "x = resnet.output\n",
    "x = GlobalAveragePooling2D()(x) # This layer is a really fancy flatten\n",
    "x = Dense(1024, activation='relu')(x)\n",
    "predictions = Dense(1, activation='sigmoid')(x)\n",
    "model = Model(resnet.input, predictions)"
   ]
  },
  {
   "cell_type": "code",
   "execution_count": 14,
   "metadata": {},
   "outputs": [],
   "source": [
    "model.compile(optimizer='adam', loss='binary_crossentropy', metrics=['accuracy'])"
   ]
  },
  {
   "cell_type": "markdown",
   "metadata": {
    "colab_type": "text",
    "id": "BVPBWYG7tCA2"
   },
   "source": [
    "## Fit Model"
   ]
  },
  {
   "cell_type": "code",
   "execution_count": 15,
   "metadata": {
    "colab": {},
    "colab_type": "code",
    "id": "H4XdvWA5tCA3"
   },
   "outputs": [
    {
     "name": "stdout",
     "output_type": "stream",
     "text": [
      "Epoch 1/50\n",
      "32/32 [==============================] - 2s 69ms/step - loss: 0.6915 - accuracy: 0.5589 - val_loss: 0.6100 - val_accuracy: 0.6705\n",
      "Epoch 2/50\n",
      "32/32 [==============================] - 2s 49ms/step - loss: 0.5585 - accuracy: 0.7186 - val_loss: 0.5059 - val_accuracy: 0.8182\n",
      "Epoch 3/50\n",
      "32/32 [==============================] - 2s 49ms/step - loss: 0.5275 - accuracy: 0.6966 - val_loss: 0.6296 - val_accuracy: 0.6761\n",
      "Epoch 4/50\n",
      "32/32 [==============================] - 2s 50ms/step - loss: 0.4903 - accuracy: 0.7545 - val_loss: 0.5067 - val_accuracy: 0.6989\n",
      "Epoch 5/50\n",
      "32/32 [==============================] - 2s 49ms/step - loss: 0.4427 - accuracy: 0.7884 - val_loss: 0.4484 - val_accuracy: 0.8295\n",
      "Epoch 6/50\n",
      "32/32 [==============================] - 2s 49ms/step - loss: 0.3661 - accuracy: 0.8723 - val_loss: 0.4495 - val_accuracy: 0.8295\n",
      "Epoch 7/50\n",
      "32/32 [==============================] - 2s 49ms/step - loss: 0.3211 - accuracy: 0.8942 - val_loss: 0.3469 - val_accuracy: 0.8807\n",
      "Epoch 8/50\n",
      "32/32 [==============================] - 2s 49ms/step - loss: 0.3625 - accuracy: 0.8463 - val_loss: 0.4023 - val_accuracy: 0.7727\n",
      "Epoch 9/50\n",
      "32/32 [==============================] - 2s 50ms/step - loss: 0.2902 - accuracy: 0.9022 - val_loss: 0.3301 - val_accuracy: 0.8977\n",
      "Epoch 10/50\n",
      "32/32 [==============================] - 2s 50ms/step - loss: 0.2463 - accuracy: 0.9301 - val_loss: 0.3392 - val_accuracy: 0.8466\n",
      "Epoch 11/50\n",
      "32/32 [==============================] - 2s 49ms/step - loss: 0.2619 - accuracy: 0.9082 - val_loss: 0.5792 - val_accuracy: 0.6932\n",
      "Epoch 12/50\n",
      "32/32 [==============================] - 2s 49ms/step - loss: 0.2971 - accuracy: 0.8822 - val_loss: 0.3020 - val_accuracy: 0.8864\n",
      "Epoch 13/50\n",
      "32/32 [==============================] - 2s 50ms/step - loss: 0.2575 - accuracy: 0.8902 - val_loss: 0.3337 - val_accuracy: 0.8580\n",
      "Epoch 14/50\n",
      "32/32 [==============================] - 2s 49ms/step - loss: 0.2356 - accuracy: 0.9122 - val_loss: 0.2486 - val_accuracy: 0.8977\n",
      "Epoch 15/50\n",
      "32/32 [==============================] - 2s 50ms/step - loss: 0.2010 - accuracy: 0.9301 - val_loss: 0.2506 - val_accuracy: 0.9034\n",
      "Epoch 16/50\n",
      "32/32 [==============================] - 2s 50ms/step - loss: 0.1918 - accuracy: 0.9421 - val_loss: 0.2352 - val_accuracy: 0.9205\n",
      "Epoch 17/50\n",
      "32/32 [==============================] - 2s 52ms/step - loss: 0.2065 - accuracy: 0.9261 - val_loss: 0.2488 - val_accuracy: 0.9034\n",
      "Epoch 18/50\n",
      "32/32 [==============================] - 2s 50ms/step - loss: 0.2294 - accuracy: 0.9062 - val_loss: 0.4965 - val_accuracy: 0.7955\n",
      "Epoch 19/50\n",
      "32/32 [==============================] - 2s 51ms/step - loss: 0.1872 - accuracy: 0.9238 - val_loss: 0.2167 - val_accuracy: 0.9432\n",
      "Epoch 20/50\n",
      "32/32 [==============================] - 2s 50ms/step - loss: 0.2223 - accuracy: 0.8962 - val_loss: 0.2183 - val_accuracy: 0.9205\n",
      "Epoch 21/50\n",
      "32/32 [==============================] - 2s 50ms/step - loss: 0.1958 - accuracy: 0.9102 - val_loss: 0.2557 - val_accuracy: 0.9034\n",
      "Epoch 22/50\n",
      "32/32 [==============================] - 2s 51ms/step - loss: 0.2098 - accuracy: 0.9162 - val_loss: 0.4613 - val_accuracy: 0.8125\n",
      "Epoch 23/50\n",
      "32/32 [==============================] - 2s 50ms/step - loss: 0.1772 - accuracy: 0.9261 - val_loss: 0.1950 - val_accuracy: 0.9489\n",
      "Epoch 24/50\n",
      "32/32 [==============================] - 2s 50ms/step - loss: 0.1771 - accuracy: 0.9381 - val_loss: 0.6617 - val_accuracy: 0.7102\n",
      "Epoch 25/50\n",
      "32/32 [==============================] - 2s 50ms/step - loss: 0.1519 - accuracy: 0.9401 - val_loss: 0.2744 - val_accuracy: 0.8807\n",
      "Epoch 26/50\n",
      "32/32 [==============================] - 2s 50ms/step - loss: 0.1523 - accuracy: 0.9461 - val_loss: 0.2914 - val_accuracy: 0.8807\n",
      "Epoch 27/50\n",
      "32/32 [==============================] - 2s 50ms/step - loss: 0.1244 - accuracy: 0.9521 - val_loss: 0.1972 - val_accuracy: 0.9432\n",
      "Epoch 28/50\n",
      "32/32 [==============================] - 2s 51ms/step - loss: 0.1383 - accuracy: 0.9441 - val_loss: 0.2115 - val_accuracy: 0.9318\n",
      "Epoch 29/50\n",
      "32/32 [==============================] - 2s 51ms/step - loss: 0.2040 - accuracy: 0.9281 - val_loss: 0.6542 - val_accuracy: 0.7557\n",
      "Epoch 30/50\n",
      "32/32 [==============================] - 2s 53ms/step - loss: 0.1241 - accuracy: 0.9501 - val_loss: 0.2136 - val_accuracy: 0.9318\n",
      "Epoch 31/50\n",
      "32/32 [==============================] - 2s 52ms/step - loss: 0.1026 - accuracy: 0.9701 - val_loss: 0.4233 - val_accuracy: 0.8523\n",
      "Epoch 32/50\n",
      "32/32 [==============================] - 2s 50ms/step - loss: 0.2172 - accuracy: 0.9062 - val_loss: 0.2953 - val_accuracy: 0.8523\n",
      "Epoch 33/50\n",
      "32/32 [==============================] - 2s 51ms/step - loss: 0.1057 - accuracy: 0.9601 - val_loss: 0.2657 - val_accuracy: 0.9091\n",
      "Epoch 34/50\n",
      "32/32 [==============================] - 2s 51ms/step - loss: 0.0907 - accuracy: 0.9741 - val_loss: 0.2012 - val_accuracy: 0.9375\n",
      "Epoch 35/50\n",
      "32/32 [==============================] - 2s 52ms/step - loss: 0.0933 - accuracy: 0.9746 - val_loss: 0.1955 - val_accuracy: 0.9432\n",
      "Epoch 36/50\n",
      "32/32 [==============================] - 2s 52ms/step - loss: 0.1043 - accuracy: 0.9521 - val_loss: 0.2167 - val_accuracy: 0.9148\n",
      "Epoch 37/50\n",
      "32/32 [==============================] - 2s 50ms/step - loss: 0.1739 - accuracy: 0.9301 - val_loss: 0.9130 - val_accuracy: 0.6648\n",
      "Epoch 38/50\n",
      "32/32 [==============================] - 2s 51ms/step - loss: 0.1998 - accuracy: 0.9222 - val_loss: 0.1847 - val_accuracy: 0.9489\n",
      "Epoch 39/50\n",
      "32/32 [==============================] - 2s 49ms/step - loss: 0.1864 - accuracy: 0.9142 - val_loss: 0.1916 - val_accuracy: 0.9432\n",
      "Epoch 40/50\n",
      "32/32 [==============================] - 2s 51ms/step - loss: 0.1024 - accuracy: 0.9721 - val_loss: 0.1977 - val_accuracy: 0.9318\n",
      "Epoch 41/50\n",
      "32/32 [==============================] - 2s 50ms/step - loss: 0.0894 - accuracy: 0.9701 - val_loss: 0.1603 - val_accuracy: 0.9489\n",
      "Epoch 42/50\n",
      "32/32 [==============================] - 2s 50ms/step - loss: 0.0879 - accuracy: 0.9701 - val_loss: 0.1967 - val_accuracy: 0.9432\n",
      "Epoch 43/50\n",
      "32/32 [==============================] - 2s 50ms/step - loss: 0.0726 - accuracy: 0.9721 - val_loss: 0.1825 - val_accuracy: 0.9432\n",
      "Epoch 44/50\n",
      "32/32 [==============================] - 2s 50ms/step - loss: 0.1083 - accuracy: 0.9661 - val_loss: 0.2680 - val_accuracy: 0.8920\n",
      "Epoch 45/50\n",
      "32/32 [==============================] - 2s 51ms/step - loss: 0.0867 - accuracy: 0.9621 - val_loss: 0.2372 - val_accuracy: 0.9318\n",
      "Epoch 46/50\n",
      "32/32 [==============================] - 2s 52ms/step - loss: 0.0912 - accuracy: 0.9701 - val_loss: 0.2411 - val_accuracy: 0.9375\n",
      "Epoch 47/50\n",
      "32/32 [==============================] - 2s 49ms/step - loss: 0.0939 - accuracy: 0.9641 - val_loss: 0.2974 - val_accuracy: 0.8977\n",
      "Epoch 48/50\n",
      "32/32 [==============================] - 2s 50ms/step - loss: 0.1903 - accuracy: 0.9261 - val_loss: 0.4307 - val_accuracy: 0.8068\n",
      "Epoch 49/50\n",
      "32/32 [==============================] - 2s 50ms/step - loss: 0.0979 - accuracy: 0.9661 - val_loss: 0.3737 - val_accuracy: 0.8523\n",
      "Epoch 50/50\n",
      "32/32 [==============================] - 2s 50ms/step - loss: 0.0727 - accuracy: 0.9766 - val_loss: 0.3271 - val_accuracy: 0.8636\n"
     ]
    }
   ],
   "source": [
    "history = model.fit(\n",
    "    train_data_gen,\n",
    "    steps_per_epoch=total_train // batch_size,\n",
    "    epochs=epochs,\n",
    "    validation_data=val_data_gen,\n",
    "    validation_steps=total_val // batch_size\n",
    ")"
   ]
  },
  {
   "cell_type": "markdown",
   "metadata": {},
   "source": [
    "# I have literally no clue what just happened"
   ]
  },
  {
   "cell_type": "markdown",
   "metadata": {
    "colab_type": "text",
    "id": "UPzsgS94tCA5"
   },
   "source": [
    "# Custom CNN Model\n",
    "\n",
    "In this step, write and train your own convolutional neural network using Keras. You can use any architecture that suits you as long as it has at least one convolutional and one pooling layer at the beginning of the network - you can add more if you want. "
   ]
  },
  {
   "cell_type": "code",
   "execution_count": 23,
   "metadata": {},
   "outputs": [],
   "source": [
    "from tensorflow.keras.layers import Dense, Flatten, MaxPooling2D, Conv2D\n",
    "from tensorflow.keras import Sequential"
   ]
  },
  {
   "cell_type": "code",
   "execution_count": 29,
   "metadata": {
    "colab": {},
    "colab_type": "code",
    "id": "hnbJJie3tCA5"
   },
   "outputs": [],
   "source": [
    "my_model = Sequential()\n",
    "my_model.add(Conv2D(32, (3,3), activation='relu', input_shape=(224,224,3)))\n",
    "my_model.add(MaxPooling2D((2,2)))\n",
    "my_model.add(Conv2D(64, (3,3), activation='relu'))\n",
    "my_model.add(MaxPooling2D((2,2)))\n",
    "my_model.add(Conv2D(64, (3,3), activation='relu'))\n",
    "my_model.add(Flatten())\n",
    "my_model.add(Dense(64, activation='relu'))\n",
    "my_model.add(Dense(1, activation='sigmoid'))"
   ]
  },
  {
   "cell_type": "code",
   "execution_count": 30,
   "metadata": {
    "colab": {},
    "colab_type": "code",
    "id": "1P_mRtoutCA9"
   },
   "outputs": [],
   "source": [
    "my_model.compile(optimizer='adam', loss='binary_crossentropy',metrics=['accuracy'])"
   ]
  },
  {
   "cell_type": "code",
   "execution_count": 31,
   "metadata": {
    "colab": {},
    "colab_type": "code",
    "id": "CwM4GsaetCA_"
   },
   "outputs": [
    {
     "name": "stdout",
     "output_type": "stream",
     "text": [
      "Epoch 1/50\n",
      "32/32 [==============================] - 1s 40ms/step - loss: 0.4024 - accuracy: 0.8683 - val_loss: 0.5458 - val_accuracy: 0.8011\n",
      "Epoch 2/50\n",
      "32/32 [==============================] - 1s 36ms/step - loss: 0.1738 - accuracy: 0.9421 - val_loss: 0.2031 - val_accuracy: 0.9148\n",
      "Epoch 3/50\n",
      "32/32 [==============================] - 1s 36ms/step - loss: 0.2950 - accuracy: 0.8902 - val_loss: 0.1704 - val_accuracy: 0.9318\n",
      "Epoch 4/50\n",
      "32/32 [==============================] - 1s 36ms/step - loss: 0.1932 - accuracy: 0.9261 - val_loss: 0.1659 - val_accuracy: 0.9148\n",
      "Epoch 5/50\n",
      "32/32 [==============================] - 1s 35ms/step - loss: 0.1322 - accuracy: 0.9521 - val_loss: 0.1918 - val_accuracy: 0.9148\n",
      "Epoch 6/50\n",
      "32/32 [==============================] - 1s 35ms/step - loss: 0.1250 - accuracy: 0.9521 - val_loss: 0.3420 - val_accuracy: 0.8920\n",
      "Epoch 7/50\n",
      "32/32 [==============================] - 1s 36ms/step - loss: 0.0947 - accuracy: 0.9661 - val_loss: 0.6942 - val_accuracy: 0.7955\n",
      "Epoch 8/50\n",
      "32/32 [==============================] - 1s 35ms/step - loss: 0.0965 - accuracy: 0.9601 - val_loss: 0.2394 - val_accuracy: 0.9091\n",
      "Epoch 9/50\n",
      "32/32 [==============================] - 1s 36ms/step - loss: 0.0733 - accuracy: 0.9760 - val_loss: 0.1640 - val_accuracy: 0.9205\n",
      "Epoch 10/50\n",
      "32/32 [==============================] - 1s 36ms/step - loss: 0.1161 - accuracy: 0.9541 - val_loss: 0.2451 - val_accuracy: 0.9205\n",
      "Epoch 11/50\n",
      "32/32 [==============================] - 1s 35ms/step - loss: 0.0359 - accuracy: 0.9900 - val_loss: 0.2783 - val_accuracy: 0.9261\n",
      "Epoch 12/50\n",
      "32/32 [==============================] - 1s 35ms/step - loss: 0.1719 - accuracy: 0.9341 - val_loss: 0.2012 - val_accuracy: 0.9148\n",
      "Epoch 13/50\n",
      "32/32 [==============================] - 1s 36ms/step - loss: 0.2115 - accuracy: 0.9062 - val_loss: 0.2605 - val_accuracy: 0.8864\n",
      "Epoch 14/50\n",
      "32/32 [==============================] - 1s 34ms/step - loss: 0.0615 - accuracy: 0.9860 - val_loss: 0.2876 - val_accuracy: 0.9205\n",
      "Epoch 15/50\n",
      "32/32 [==============================] - 1s 36ms/step - loss: 0.0513 - accuracy: 0.9820 - val_loss: 0.3926 - val_accuracy: 0.8920\n",
      "Epoch 16/50\n",
      "32/32 [==============================] - 1s 36ms/step - loss: 0.0287 - accuracy: 0.9940 - val_loss: 0.4091 - val_accuracy: 0.8920\n",
      "Epoch 17/50\n",
      "32/32 [==============================] - 1s 37ms/step - loss: 0.0136 - accuracy: 0.9960 - val_loss: 0.2603 - val_accuracy: 0.9148\n",
      "Epoch 18/50\n",
      "32/32 [==============================] - 1s 36ms/step - loss: 0.0037 - accuracy: 1.0000 - val_loss: 0.4307 - val_accuracy: 0.8977\n",
      "Epoch 19/50\n",
      "32/32 [==============================] - 1s 36ms/step - loss: 0.0015 - accuracy: 1.0000 - val_loss: 0.3147 - val_accuracy: 0.9375\n",
      "Epoch 20/50\n",
      "32/32 [==============================] - 1s 36ms/step - loss: 0.0011 - accuracy: 1.0000 - val_loss: 0.3322 - val_accuracy: 0.9148\n",
      "Epoch 21/50\n",
      "32/32 [==============================] - 1s 36ms/step - loss: 5.4186e-04 - accuracy: 1.0000 - val_loss: 0.4010 - val_accuracy: 0.9148\n",
      "Epoch 22/50\n",
      "32/32 [==============================] - 1s 35ms/step - loss: 6.2402e-04 - accuracy: 1.0000 - val_loss: 0.4161 - val_accuracy: 0.9034\n",
      "Epoch 23/50\n",
      "32/32 [==============================] - 1s 36ms/step - loss: 5.4157e-04 - accuracy: 1.0000 - val_loss: 0.3899 - val_accuracy: 0.9148\n",
      "Epoch 24/50\n",
      "32/32 [==============================] - 1s 36ms/step - loss: 2.9330e-04 - accuracy: 1.0000 - val_loss: 0.4320 - val_accuracy: 0.9148\n",
      "Epoch 25/50\n",
      "32/32 [==============================] - 1s 37ms/step - loss: 2.4720e-04 - accuracy: 1.0000 - val_loss: 0.3843 - val_accuracy: 0.9148\n",
      "Epoch 26/50\n",
      "32/32 [==============================] - 1s 35ms/step - loss: 2.3960e-04 - accuracy: 1.0000 - val_loss: 0.4206 - val_accuracy: 0.9148\n",
      "Epoch 27/50\n",
      "32/32 [==============================] - 1s 36ms/step - loss: 2.0495e-04 - accuracy: 1.0000 - val_loss: 0.4856 - val_accuracy: 0.9034\n",
      "Epoch 28/50\n",
      "32/32 [==============================] - 1s 36ms/step - loss: 1.7644e-04 - accuracy: 1.0000 - val_loss: 0.5081 - val_accuracy: 0.9034\n",
      "Epoch 29/50\n",
      "32/32 [==============================] - 1s 35ms/step - loss: 1.5495e-04 - accuracy: 1.0000 - val_loss: 0.4831 - val_accuracy: 0.9091\n",
      "Epoch 30/50\n",
      "32/32 [==============================] - 1s 35ms/step - loss: 1.2340e-04 - accuracy: 1.0000 - val_loss: 0.4967 - val_accuracy: 0.9034\n",
      "Epoch 31/50\n",
      "32/32 [==============================] - 1s 36ms/step - loss: 1.2136e-04 - accuracy: 1.0000 - val_loss: 0.5150 - val_accuracy: 0.9034\n",
      "Epoch 32/50\n",
      "32/32 [==============================] - 1s 37ms/step - loss: 1.0251e-04 - accuracy: 1.0000 - val_loss: 0.5444 - val_accuracy: 0.9034\n",
      "Epoch 33/50\n",
      "32/32 [==============================] - 1s 36ms/step - loss: 9.3327e-05 - accuracy: 1.0000 - val_loss: 0.4102 - val_accuracy: 0.9205\n",
      "Epoch 34/50\n",
      "32/32 [==============================] - 1s 37ms/step - loss: 8.4752e-05 - accuracy: 1.0000 - val_loss: 0.4441 - val_accuracy: 0.9148\n",
      "Epoch 35/50\n",
      "32/32 [==============================] - 1s 36ms/step - loss: 7.9296e-05 - accuracy: 1.0000 - val_loss: 0.5473 - val_accuracy: 0.9091\n",
      "Epoch 36/50\n",
      "32/32 [==============================] - 1s 36ms/step - loss: 6.4701e-05 - accuracy: 1.0000 - val_loss: 0.4401 - val_accuracy: 0.9148\n",
      "Epoch 37/50\n",
      "32/32 [==============================] - 1s 37ms/step - loss: 5.8946e-05 - accuracy: 1.0000 - val_loss: 0.4713 - val_accuracy: 0.9148\n",
      "Epoch 38/50\n",
      "32/32 [==============================] - 1s 36ms/step - loss: 6.0357e-05 - accuracy: 1.0000 - val_loss: 0.5347 - val_accuracy: 0.9091\n",
      "Epoch 39/50\n",
      "32/32 [==============================] - 1s 36ms/step - loss: 4.7398e-05 - accuracy: 1.0000 - val_loss: 0.4765 - val_accuracy: 0.9261\n",
      "Epoch 40/50\n",
      "32/32 [==============================] - 1s 36ms/step - loss: 4.5350e-05 - accuracy: 1.0000 - val_loss: 0.4578 - val_accuracy: 0.9148\n",
      "Epoch 41/50\n",
      "32/32 [==============================] - 1s 36ms/step - loss: 4.4389e-05 - accuracy: 1.0000 - val_loss: 0.5278 - val_accuracy: 0.9261\n",
      "Epoch 42/50\n",
      "32/32 [==============================] - 1s 36ms/step - loss: 4.1359e-05 - accuracy: 1.0000 - val_loss: 0.5830 - val_accuracy: 0.9091\n",
      "Epoch 43/50\n",
      "32/32 [==============================] - 1s 36ms/step - loss: 3.8871e-05 - accuracy: 1.0000 - val_loss: 0.5846 - val_accuracy: 0.9091\n",
      "Epoch 44/50\n",
      "32/32 [==============================] - 1s 35ms/step - loss: 3.3000e-05 - accuracy: 1.0000 - val_loss: 0.5887 - val_accuracy: 0.9148\n",
      "Epoch 45/50\n",
      "32/32 [==============================] - 1s 35ms/step - loss: 3.1278e-05 - accuracy: 1.0000 - val_loss: 0.4771 - val_accuracy: 0.9205\n",
      "Epoch 46/50\n",
      "32/32 [==============================] - 1s 38ms/step - loss: 2.9140e-05 - accuracy: 1.0000 - val_loss: 0.4379 - val_accuracy: 0.9205\n",
      "Epoch 47/50\n",
      "32/32 [==============================] - 1s 35ms/step - loss: 2.6919e-05 - accuracy: 1.0000 - val_loss: 0.5739 - val_accuracy: 0.9261\n",
      "Epoch 48/50\n",
      "32/32 [==============================] - 1s 36ms/step - loss: 2.4120e-05 - accuracy: 1.0000 - val_loss: 0.6066 - val_accuracy: 0.9205\n",
      "Epoch 49/50\n",
      "32/32 [==============================] - 1s 36ms/step - loss: 2.5012e-05 - accuracy: 1.0000 - val_loss: 0.6553 - val_accuracy: 0.9091\n",
      "Epoch 50/50\n",
      "32/32 [==============================] - 1s 36ms/step - loss: 2.1603e-05 - accuracy: 1.0000 - val_loss: 0.5733 - val_accuracy: 0.9318\n"
     ]
    },
    {
     "data": {
      "text/plain": [
       "<tensorflow.python.keras.callbacks.History at 0x7f60909b6e80>"
      ]
     },
     "execution_count": 31,
     "metadata": {},
     "output_type": "execute_result"
    }
   ],
   "source": [
    "my_model.fit(\n",
    "    train_data_gen,\n",
    "    steps_per_epoch=total_train // batch_size,\n",
    "    epochs=epochs,\n",
    "    validation_data=val_data_gen,\n",
    "    validation_steps=total_val // batch_size\n",
    ")"
   ]
  },
  {
   "cell_type": "markdown",
   "metadata": {
    "colab_type": "text",
    "id": "FNTHjUddtCBB"
   },
   "source": [
    "# Custom CNN Model with Image Manipulations\n",
    "\n",
    "To simulate an increase in a sample of image, you can apply image manipulation techniques: cropping, rotation, stretching, etc. Luckily Keras has some handy functions for us to apply these techniques to our mountain and forest example. Simply, you should be able to modify our image generator for the problem. Check out these resources to help you get started: \n",
    "\n",
    "1. [Keras `ImageGenerator` Class](https://keras.io/preprocessing/image/#imagedatagenerator-class)\n",
    "2. [Building a powerful image classifier with very little data](https://blog.keras.io/building-powerful-image-classification-models-using-very-little-data.html)\n",
    " "
   ]
  },
  {
   "cell_type": "markdown",
   "metadata": {},
   "source": [
    "#### All you need to do is pass in arguemnts(as listed below) to the ImageDataGenerator during instantiation"
   ]
  },
  {
   "cell_type": "code",
   "execution_count": null,
   "metadata": {
    "colab": {},
    "colab_type": "code",
    "id": "XKioBv3WtCBB"
   },
   "outputs": [],
   "source": [
    "# tf.keras.preprocessing.image.ImageDataGenerator(\n",
    "#     featurewise_center=False,\n",
    "#     samplewise_center=False,\n",
    "#     featurewise_std_normalization=False,\n",
    "#     samplewise_std_normalization=False,\n",
    "#     zca_whitening=False,\n",
    "#     zca_epsilon=1e-06,\n",
    "#     rotation_range=0,\n",
    "#     width_shift_range=0.0,\n",
    "#     height_shift_range=0.0,\n",
    "#     brightness_range=None,\n",
    "#     shear_range=0.0,\n",
    "#     zoom_range=0.0,\n",
    "#     channel_shift_range=0.0,\n",
    "#     fill_mode=\"nearest\",\n",
    "#     cval=0.0,\n",
    "#     horizontal_flip=False,\n",
    "#     vertical_flip=False,\n",
    "#     rescale=None,\n",
    "#     preprocessing_function=None,\n",
    "#     data_format=None,\n",
    "#     validation_split=0.0,\n",
    "#     dtype=None,\n",
    "# )"
   ]
  },
  {
   "cell_type": "code",
   "execution_count": null,
   "metadata": {},
   "outputs": [],
   "source": []
  },
  {
   "cell_type": "code",
   "execution_count": null,
   "metadata": {},
   "outputs": [],
   "source": []
  },
  {
   "cell_type": "code",
   "execution_count": null,
   "metadata": {},
   "outputs": [],
   "source": []
  },
  {
   "cell_type": "code",
   "execution_count": null,
   "metadata": {},
   "outputs": [],
   "source": []
  },
  {
   "cell_type": "code",
   "execution_count": null,
   "metadata": {},
   "outputs": [],
   "source": []
  },
  {
   "cell_type": "code",
   "execution_count": null,
   "metadata": {},
   "outputs": [],
   "source": []
  },
  {
   "cell_type": "code",
   "execution_count": null,
   "metadata": {},
   "outputs": [],
   "source": []
  },
  {
   "cell_type": "markdown",
   "metadata": {
    "colab_type": "text",
    "id": "uT3UV3gap9H6"
   },
   "source": [
    "# Resources and Stretch Goals\n",
    "\n",
    "Stretch goals\n",
    "- Enhance your code to use classes/functions and accept terms to search and classes to look for in recognizing the downloaded images (e.g. download images of parties, recognize all that contain balloons)\n",
    "- Check out [other available pretrained networks](https://tfhub.dev), try some and compare\n",
    "- Image recognition/classification is somewhat solved, but *relationships* between entities and describing an image is not - check out some of the extended resources (e.g. [Visual Genome](https://visualgenome.org/)) on the topic\n",
    "- Transfer learning - using images you source yourself, [retrain a classifier](https://www.tensorflow.org/hub/tutorials/image_retraining) with a new category\n",
    "- (Not CNN related) Use [piexif](https://pypi.org/project/piexif/) to check out the metadata of images passed in to your system - see if they're from a national park! (Note - many images lack GPS metadata, so this won't work in most cases, but still cool)\n",
    "\n",
    "Resources\n",
    "- [Deep Residual Learning for Image Recognition](https://arxiv.org/abs/1512.03385) - influential paper (introduced ResNet)\n",
    "- [YOLO: Real-Time Object Detection](https://pjreddie.com/darknet/yolo/) - an influential convolution based object detection system, focused on inference speed (for applications to e.g. self driving vehicles)\n",
    "- [R-CNN, Fast R-CNN, Faster R-CNN, YOLO](https://towardsdatascience.com/r-cnn-fast-r-cnn-faster-r-cnn-yolo-object-detection-algorithms-36d53571365e) - comparison of object detection systems\n",
    "- [Common Objects in Context](http://cocodataset.org/) - a large-scale object detection, segmentation, and captioning dataset\n",
    "- [Visual Genome](https://visualgenome.org/) - a dataset, a knowledge base, an ongoing effort to connect structured image concepts to language"
   ]
  }
 ],
 "metadata": {
  "colab": {
   "name": "LS_DS_432_Convolution_Neural_Networks_Assignment.ipynb",
   "provenance": []
  },
  "kernelspec": {
   "display_name": "Python 3",
   "language": "python",
   "name": "python3"
  },
  "language_info": {
   "codemirror_mode": {
    "name": "ipython",
    "version": 3
   },
   "file_extension": ".py",
   "mimetype": "text/x-python",
   "name": "python",
   "nbconvert_exporter": "python",
   "pygments_lexer": "ipython3",
   "version": "3.7.0"
  },
  "nteract": {
   "version": "0.23.1"
  }
 },
 "nbformat": 4,
 "nbformat_minor": 4
}
